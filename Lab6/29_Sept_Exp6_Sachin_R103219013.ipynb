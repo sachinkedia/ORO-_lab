{
  "nbformat": 4,
  "nbformat_minor": 0,
  "metadata": {
    "colab": {
      "name": "29_Sept_Exp6_Sachin_R103219013.ipynb",
      "provenance": [],
      "authorship_tag": "ABX9TyMyqm7388JxJK6G/ej1Q9Ey",
      "include_colab_link": true
    },
    "kernelspec": {
      "name": "python3",
      "display_name": "Python 3"
    },
    "language_info": {
      "name": "python"
    }
  },
  "cells": [
    {
      "cell_type": "markdown",
      "metadata": {
        "id": "view-in-github",
        "colab_type": "text"
      },
      "source": [
        "<a href=\"https://colab.research.google.com/github/sachinkedia/OroLAB/blob/main/Lab6/29_Sept_Exp6_Sachin_R103219013.ipynb\" target=\"_parent\"><img src=\"https://colab.research.google.com/assets/colab-badge.svg\" alt=\"Open In Colab\"/></a>"
      ]
    },
    {
      "cell_type": "code",
      "metadata": {
        "id": "dQJN4U2EUgvz"
      },
      "source": [
        "from scipy.optimize import linprog"
      ],
      "execution_count": 1,
      "outputs": []
    },
    {
      "cell_type": "markdown",
      "metadata": {
        "id": "x9V-8_Jbe2_g"
      },
      "source": [
        "# **Question 1**\n",
        "\n",
        "Consider a Belgian company Volsay, which specializes in producing ammoniac gas (NH3)\n",
        "and ammonium chloride (NH4Cl). Volsay has at its disposal 50 units of nitrogen (N), 180 units\n",
        "of hydrogen (H), and 40 units of chlorine (Cl). The company makes a profit of 40 Euros for\n",
        "each sale of an ammoniac gas unit and 50 Euros for each sale of an ammonium chloride\n",
        "unit. Volsay would like a production plan maximizing its profits given its available stocks.\n"
      ]
    },
    {
      "cell_type": "code",
      "metadata": {
        "colab": {
          "base_uri": "https://localhost:8080/"
        },
        "id": "NPGAJgN9UlGM",
        "outputId": "a57e3c74-65c4-4b73-d3a9-2a244ba1f9ee"
      },
      "source": [
        "obj = [-40 ,-50]\n",
        "lhs_ineq = [[ 3, 4],[1, 1],[0, 1]]\n",
        "rhs_ineq = [180, 50, 40]\n",
        "bnd = [(0, float(\"inf\")), (0, float(\"inf\"))]\n",
        "opt = linprog(c=obj, A_ub=lhs_ineq, b_ub=rhs_ineq, bounds=bnd, method=\"revised simplex\")\n",
        "opt"
      ],
      "execution_count": 6,
      "outputs": [
        {
          "output_type": "execute_result",
          "data": {
            "text/plain": [
              "     con: array([], dtype=float64)\n",
              "     fun: -2300.0\n",
              " message: 'Optimization terminated successfully.'\n",
              "     nit: 3\n",
              "   slack: array([ 0.,  0., 10.])\n",
              "  status: 0\n",
              " success: True\n",
              "       x: array([20., 30.])"
            ]
          },
          "metadata": {},
          "execution_count": 6
        }
      ]
    },
    {
      "cell_type": "markdown",
      "metadata": {
        "id": "Y6OABNjle8aa"
      },
      "source": [
        "# **Question 2**\n",
        "\n",
        "On October 1 a company received a contract to supply 6000 units of specialized product . the term of contract require that 1000 unit  be shipped in October , 3000 units in November and 2000 units in December . the company can manufacture 1500 units in a month on a regular time and 750 units per month in overtime. The manufacturing cost per item produced in regular time is Rs 3 and the cost per item produced during overtime is Rs 5.The monthly storage cost is Rs 1.Formulate this problem as LP model so as to minimize total cost."
      ]
    },
    {
      "cell_type": "code",
      "metadata": {
        "colab": {
          "base_uri": "https://localhost:8080/"
        },
        "id": "7_YZkRlMVDWt",
        "outputId": "f26bf1be-4ae2-404e-80c4-adcb4c49f1d9"
      },
      "source": [
        "obj = [5, 4, 3, 7, 6, 5, -5000]\n",
        "lhs_ineq = [[-1, 0, 0, -1, 0, 0, 0],[-1, -1, 0, -1, -1, 0, 0]]\n",
        "rhs_ineq = [-1000, -4000]\n",
        "lhs_eq = [[1, 1, 1, 1, 1, 1, 0],[0, 0, 0, 0, 0, 0, 1]]\n",
        "rhs_eq = [6000, 1]\n",
        "bnd = [(0, 1500), (0, 1500), (0, 1500), (0,750), (0,750), (0,750), (1,1)]\n",
        "opt = linprog(c=obj,A_eq=lhs_eq, b_eq=rhs_eq, A_ub=lhs_ineq, b_ub=rhs_ineq, bounds=bnd, method=\"revised simplex\")\n",
        "opt"
      ],
      "execution_count": 7,
      "outputs": [
        {
          "output_type": "execute_result",
          "data": {
            "text/plain": [
              "     con: array([0., 0.])\n",
              "     fun: 21750.0\n",
              " message: 'Optimization terminated successfully.'\n",
              "     nit: 7\n",
              "   slack: array([750.,   0.])\n",
              "  status: 0\n",
              " success: True\n",
              "       x: array([1.5e+03, 1.5e+03, 1.5e+03, 2.5e+02, 7.5e+02, 5.0e+02, 1.0e+00])"
            ]
          },
          "metadata": {},
          "execution_count": 7
        }
      ]
    },
    {
      "cell_type": "markdown",
      "metadata": {
        "id": "mxn0Mh-ZfA1y"
      },
      "source": [
        "# **Question 3**\n",
        "\n",
        "Maximize Z=4x1+3x2 <br>\n",
        "Subject to <br>\n",
        "2x1+x2 ≤ 1000 <br>\n",
        "x1+x2 ≤ 800 <br>\n",
        "x1 ≤ 400 <br>\n",
        "x2 ≤ 700, x1,x2  ≥0 \n"
      ]
    },
    {
      "cell_type": "code",
      "metadata": {
        "colab": {
          "base_uri": "https://localhost:8080/"
        },
        "id": "TWtHpYiuYfQx",
        "outputId": "fbe7cd55-06f6-4530-fbc3-5a9a6e1e05d3"
      },
      "source": [
        "obj = [-4, -3]\n",
        "lhs_ineq = [[2, 1],[1, 1]]\n",
        "rhs_ineq = [1000, 800]\n",
        "bnd = [(0, 400), (0, 700)]\n",
        "opt = linprog(c=obj, A_ub=lhs_ineq, b_ub=rhs_ineq, bounds=bnd, method=\"revised simplex\")\n",
        "opt"
      ],
      "execution_count": 9,
      "outputs": [
        {
          "output_type": "execute_result",
          "data": {
            "text/plain": [
              "     con: array([], dtype=float64)\n",
              "     fun: -2600.0\n",
              " message: 'Optimization terminated successfully.'\n",
              "     nit: 3\n",
              "   slack: array([0., 0.])\n",
              "  status: 0\n",
              " success: True\n",
              "       x: array([200., 600.])"
            ]
          },
          "metadata": {},
          "execution_count": 9
        }
      ]
    },
    {
      "cell_type": "code",
      "metadata": {
        "id": "3ZGWog3eZcUk"
      },
      "source": [
        ""
      ],
      "execution_count": null,
      "outputs": []
    }
  ]
}