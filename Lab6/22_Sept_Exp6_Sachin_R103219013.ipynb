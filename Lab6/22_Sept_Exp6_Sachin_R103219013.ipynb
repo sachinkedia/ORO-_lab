{
  "nbformat": 4,
  "nbformat_minor": 0,
  "metadata": {
    "colab": {
      "name": "22_Sept_Exp6_Sachin_R103219013.ipynb",
      "provenance": [],
      "collapsed_sections": [],
      "authorship_tag": "ABX9TyOrSerSvih29q5Ck8QANC1K",
      "include_colab_link": true
    },
    "kernelspec": {
      "name": "python3",
      "display_name": "Python 3"
    },
    "language_info": {
      "name": "python"
    }
  },
  "cells": [
    {
      "cell_type": "markdown",
      "metadata": {
        "id": "view-in-github",
        "colab_type": "text"
      },
      "source": [
        "<a href=\"https://colab.research.google.com/github/sachinkedia/OroLAB/blob/main/Lab6/22_Sept_Exp6_Sachin_R103219013.ipynb\" target=\"_parent\"><img src=\"https://colab.research.google.com/assets/colab-badge.svg\" alt=\"Open In Colab\"/></a>"
      ]
    },
    {
      "cell_type": "code",
      "metadata": {
        "id": "lUMqyt5ye6kQ"
      },
      "source": [
        "from pydrive.auth import GoogleAuth\n",
        "from pydrive.drive import GoogleDrive\n",
        "from google.colab import auth\n",
        "from oauth2client.client import GoogleCredentials\n",
        "auth.authenticate_user()\n",
        "gauth = GoogleAuth()\n",
        "gauth.credentials = GoogleCredentials.get_application_default()\n",
        "drive = GoogleDrive(gauth)\n",
        "downloaded = drive.CreateFile({'id':\"1xIaX8HXFEI80_hBW9Asv_k4Ckt3ljZln\"})\n",
        "downloaded.GetContentFile('Lab6_Q1.txt')  \n",
        "downloaded = drive.CreateFile({'id':\"1Z0J1HE4XRxcWUX0ayRxv3zu7PSA9-mQ-\"})\n",
        "downloaded.GetContentFile('Lab6_Q2.txt')\n",
        "downloaded = drive.CreateFile({'id':\"1_qgJtm7ZbtZzhRJqkJXLgIv0omAnW1wB\"})\n",
        "downloaded.GetContentFile('Lab6_Q3.txt')\n",
        "from scipy.optimize import linprog\n",
        "import io"
      ],
      "execution_count": 74,
      "outputs": []
    },
    {
      "cell_type": "markdown",
      "metadata": {
        "id": "hGfZMFEmvipn"
      },
      "source": [
        "# **Question 1**"
      ]
    },
    {
      "cell_type": "code",
      "metadata": {
        "id": "RHDIktlZgbC9"
      },
      "source": [
        "file = open('Lab6_Q1.txt', 'r')\n",
        "lines = file.readlines()\n",
        "lst= lines[0].split(\" \")\n",
        "obj = [float(i) for i in lst]\n",
        "lst= lines[1].split(\" \")\n",
        "C1 = [float(i) for i in lst]\n",
        "lst= lines[2].split(\" \")\n",
        "C2 = [float(i) for i in lst]\n",
        "lst= lines[3].split(\" \")\n",
        "C3 = [float(i) for i in lst]\n",
        "lhs = []\n",
        "lhs.append(C1)\n",
        "lhs.append(C2)\n",
        "lhs.append(C3)\n",
        "lst= lines[4].split(\" \")\n",
        "rhs = [float(i) for i in lst]"
      ],
      "execution_count": 75,
      "outputs": []
    },
    {
      "cell_type": "code",
      "metadata": {
        "id": "URfhXs4H7467",
        "colab": {
          "base_uri": "https://localhost:8080/"
        },
        "outputId": "796b18eb-b36b-477c-e653-c8158502153d"
      },
      "source": [
        "bnd1 = [(0, float(\"inf\")), (0, float(\"inf\"))]\n",
        "opt1 = linprog(c=obj, A_ub=lhs, b_ub=rhs, bounds=bnd1, method=\"revised simplex\")\n",
        "opt1"
      ],
      "execution_count": 76,
      "outputs": [
        {
          "output_type": "execute_result",
          "data": {
            "text/plain": [
              "     con: array([], dtype=float64)\n",
              "     fun: -2300.0\n",
              " message: 'Optimization terminated successfully.'\n",
              "     nit: 3\n",
              "   slack: array([ 0.,  0., 10.])\n",
              "  status: 0\n",
              " success: True\n",
              "       x: array([20., 30.])"
            ]
          },
          "metadata": {},
          "execution_count": 76
        }
      ]
    },
    {
      "cell_type": "markdown",
      "metadata": {
        "id": "fJR1JX29vb-Y"
      },
      "source": [
        "# **Question 2**"
      ]
    },
    {
      "cell_type": "code",
      "metadata": {
        "id": "Mcw4aflRnPA1"
      },
      "source": [
        "file = open('Lab6_Q2.txt', 'r')\n",
        "lines = file.readlines()\n",
        "lst= lines[0].split(\" \")\n",
        "obj = [float(i) for i in lst]\n",
        "lst= lines[1].split(\" \")\n",
        "C1 = [float(i) for i in lst]\n",
        "lst= lines[2].split(\" \")\n",
        "C2 = [float(i) for i in lst]\n",
        "lhs_eq=[]\n",
        "lhs_eq.append(C1)\n",
        "lhs_eq.append(C2)\n",
        "lst= lines[3].split(\" \")\n",
        "C3 = [float(i) for i in lst]\n",
        "lst= lines[4].split(\" \")\n",
        "C4 = [float(i) for i in lst]\n",
        "lhs_ineq = []\n",
        "lhs_ineq.append(C3)\n",
        "lhs_ineq.append(C4)\n",
        "lst= lines[5].split(\" \")\n",
        "rhs_eq = [float(i) for i in lst]\n",
        "lst= lines[6].split(\" \")\n",
        "rhs_ineq = [float(i) for i in lst]"
      ],
      "execution_count": 77,
      "outputs": []
    },
    {
      "cell_type": "code",
      "metadata": {
        "colab": {
          "base_uri": "https://localhost:8080/"
        },
        "id": "ba0kcUGh1taX",
        "outputId": "f01ce9c5-7608-4c4f-ba42-ec46b38c1c5b"
      },
      "source": [
        "bnd = [(0, 1500), (0, 1500), (0, 1500), (0,750), (0,750), (0,750), (1,1)]\n",
        "opt = linprog(c=obj, A_eq=lhs_eq, A_ub=lhs_ineq, b_ub=rhs_ineq, b_eq=rhs_eq, bounds=bnd, method=\"revised simplex\")\n",
        "opt"
      ],
      "execution_count": 78,
      "outputs": [
        {
          "output_type": "execute_result",
          "data": {
            "text/plain": [
              "     con: array([0., 0.])\n",
              "     fun: 21750.0\n",
              " message: 'Optimization terminated successfully.'\n",
              "     nit: 7\n",
              "   slack: array([750.,   0.])\n",
              "  status: 0\n",
              " success: True\n",
              "       x: array([1.5e+03, 1.5e+03, 1.5e+03, 2.5e+02, 7.5e+02, 5.0e+02, 1.0e+00])"
            ]
          },
          "metadata": {},
          "execution_count": 78
        }
      ]
    },
    {
      "cell_type": "markdown",
      "metadata": {
        "id": "piTfjgcWvXqs"
      },
      "source": [
        "# **Question 3**"
      ]
    },
    {
      "cell_type": "code",
      "metadata": {
        "id": "xBJfJUIkWEHx"
      },
      "source": [
        "file = open('Lab6_Q3.txt', 'r')\n",
        "lines = file.readlines()\n",
        "lst= lines[0].split(\" \")\n",
        "obj = [float(i) for i in lst]\n",
        "lst= lines[1].split(\" \")\n",
        "C1 = [float(i) for i in lst]\n",
        "lst= lines[2].split(\" \")\n",
        "C2 = [float(i) for i in lst]\n",
        "lhs = []\n",
        "lhs.append(C1)\n",
        "lhs.append(C2)\n",
        "lst= lines[3].split(\" \")\n",
        "rhs = [float(i) for i in lst]"
      ],
      "execution_count": 79,
      "outputs": []
    },
    {
      "cell_type": "code",
      "metadata": {
        "colab": {
          "base_uri": "https://localhost:8080/"
        },
        "id": "N1kFhP9aslob",
        "outputId": "5447a076-95cb-48e0-faa3-59b237704ac3"
      },
      "source": [
        "bnd = [(0, 400), (0, 700)]\n",
        "opt = linprog(c=obj, A_ub=lhs, b_ub=rhs, bounds=bnd, method=\"revised simplex\")\n",
        "opt"
      ],
      "execution_count": 80,
      "outputs": [
        {
          "output_type": "execute_result",
          "data": {
            "text/plain": [
              "     con: array([], dtype=float64)\n",
              "     fun: -2600.0\n",
              " message: 'Optimization terminated successfully.'\n",
              "     nit: 3\n",
              "   slack: array([0., 0.])\n",
              "  status: 0\n",
              " success: True\n",
              "       x: array([200., 600.])"
            ]
          },
          "metadata": {},
          "execution_count": 80
        }
      ]
    },
    {
      "cell_type": "code",
      "metadata": {
        "id": "ot3hrvI6su1U"
      },
      "source": [
        ""
      ],
      "execution_count": 80,
      "outputs": []
    }
  ]
}