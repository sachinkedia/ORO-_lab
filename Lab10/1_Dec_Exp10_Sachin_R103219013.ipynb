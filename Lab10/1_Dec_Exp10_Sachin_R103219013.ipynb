{
  "nbformat": 4,
  "nbformat_minor": 0,
  "metadata": {
    "colab": {
      "name": "1_Dec_Exp10_Sachin_R103219013.ipynb",
      "provenance": [],
      "authorship_tag": "ABX9TyMi70+GWspW0sdtIQukp4LD",
      "include_colab_link": true
    },
    "kernelspec": {
      "name": "python3",
      "display_name": "Python 3"
    },
    "language_info": {
      "name": "python"
    }
  },
  "cells": [
    {
      "cell_type": "markdown",
      "metadata": {
        "id": "view-in-github",
        "colab_type": "text"
      },
      "source": [
        "<a href=\"https://colab.research.google.com/github/sachinkedia/OroLAB/blob/main/Lab10/1_Dec_Exp10_Sachin_R103219013.ipynb\" target=\"_parent\"><img src=\"https://colab.research.google.com/assets/colab-badge.svg\" alt=\"Open In Colab\"/></a>"
      ]
    },
    {
      "cell_type": "code",
      "metadata": {
        "id": "uwE4gew3xSrq"
      },
      "source": [
        "from collections import defaultdict"
      ],
      "execution_count": 1,
      "outputs": []
    },
    {
      "cell_type": "markdown",
      "source": [
        "1)\tThree refineries with daily capacities of 6, 5, and 8 million gallons, respectively, supply\n",
        "three distribution areas with daily demands of 4, 8, and 7 million gallons, respectively.\n",
        "Gasoline is transported to the three distribution areas through a network of pipelines.\n",
        "The transportation cost is 10 cents per 1000 gallons per pipeline mile. Given Table  gives the\n",
        "mileage between the refineries and the distribution areas. Determine the optimum shipping schedule in the network.\n"
      ],
      "metadata": {
        "id": "HeuFhsf1Tuho"
      }
    },
    {
      "cell_type": "code",
      "metadata": {
        "colab": {
          "base_uri": "https://localhost:8080/"
        },
        "id": "sUsAihVvlvsj",
        "outputId": "b3595ffe-4982-4606-f5dd-037c20c186c7"
      },
      "source": [
        "costs  = {'W': {'A': 120, 'B': 180, 'C': 1000},\n",
        "          'X': {'A': 300, 'B': 100, 'C': 80},\n",
        "          'Y': {'A': 200, 'B': 250, 'C': 120}}\n",
        "demand = {'A': 4, 'B': 8, 'C': 7}\n",
        "cols = sorted(demand)\n",
        "supply = {'W': 6, 'X': 5, 'Y': 8}\n",
        "res = dict((k, defaultdict(int)) for k in costs)\n",
        "g = {}\n",
        "for x in supply:\n",
        "    g[x] = sorted(costs[x], key=lambda g: costs[x][g])\n",
        "for x in demand:\n",
        "    g[x] = sorted(costs, key=lambda g: costs[g][x])\n",
        "\n",
        "while g:\n",
        "    d = {}\n",
        "    for x in demand:\n",
        "        d[x] = (costs[g[x][1]][x] - costs[g[x][0]][x]) if len(g[x]) > 1 else costs[g[x][0]][x]\n",
        "    s = {}\n",
        "    for x in supply:\n",
        "        s[x] = (costs[x][g[x][1]] - costs[x][g[x][0]]) if len(g[x]) > 1 else costs[x][g[x][0]]\n",
        "    f = max(d, key=lambda n: d[n])\n",
        "    t = max(s, key=lambda n: s[n])\n",
        "    t, f = (f, g[f][0]) if d[f] > s[t] else (g[t][0], t)\n",
        "    v = min(supply[f], demand[t])\n",
        "    res[f][t] += v\n",
        "    demand[t] -= v\n",
        "    if demand[t] == 0:\n",
        "        for k, n in supply.items():\n",
        "            if n != 0:\n",
        "                g[k].remove(t)\n",
        "        del g[t]\n",
        "        del demand[t]\n",
        "    supply[f] -= v\n",
        "    if supply[f] == 0:\n",
        "        for k, n in demand.items():\n",
        "            if n != 0:\n",
        "                g[k].remove(f)\n",
        "        del g[f]\n",
        "        del supply[f]\n",
        "\n",
        "cost = 0\n",
        "for g in sorted(costs):\n",
        "    for n in cols:\n",
        "        y = res[g][n]\n",
        "        cost += y * costs[g][n]\n",
        "print(\"\\n\\nTotal Cost = \", cost)"
      ],
      "execution_count": 4,
      "outputs": [
        {
          "output_type": "stream",
          "name": "stdout",
          "text": [
            "\n",
            "\n",
            "Total Cost =  2430\n"
          ]
        }
      ]
    }
  ]
}