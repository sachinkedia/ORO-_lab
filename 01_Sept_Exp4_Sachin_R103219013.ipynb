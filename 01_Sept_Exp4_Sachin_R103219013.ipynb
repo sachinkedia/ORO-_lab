{
  "nbformat": 4,
  "nbformat_minor": 0,
  "metadata": {
    "colab": {
      "name": "01_Sept_Exp4_Sachin_R103219013.ipynb",
      "provenance": [],
      "authorship_tag": "ABX9TyOAUj9v3kyQMuPOL85T0M+4",
      "include_colab_link": true
    },
    "kernelspec": {
      "name": "python3",
      "display_name": "Python 3"
    },
    "language_info": {
      "name": "python"
    }
  },
  "cells": [
    {
      "cell_type": "markdown",
      "metadata": {
        "id": "view-in-github",
        "colab_type": "text"
      },
      "source": [
        "<a href=\"https://colab.research.google.com/github/sachinkedia/OroLAB/blob/main/01_Sept_Exp4_Sachin_R103219013.ipynb\" target=\"_parent\"><img src=\"https://colab.research.google.com/assets/colab-badge.svg\" alt=\"Open In Colab\"/></a>"
      ]
    },
    {
      "cell_type": "code",
      "metadata": {
        "id": "eSuZgiQAUn1K"
      },
      "source": [
        "import cvxpy as cp"
      ],
      "execution_count": 1,
      "outputs": []
    },
    {
      "cell_type": "markdown",
      "metadata": {
        "id": "_YyVciayimUn"
      },
      "source": [
        "# **Question 1**"
      ]
    },
    {
      "cell_type": "code",
      "metadata": {
        "colab": {
          "base_uri": "https://localhost:8080/"
        },
        "id": "gJny9R8CU2AH",
        "outputId": "490aea1d-7a8c-4935-f57d-98a98ba19ec9"
      },
      "source": [
        "x = cp.Variable(integer=True)\n",
        "y = cp.Variable(integer=True)\n",
        "\n",
        "constraints = [-x + (3*y) <= 6,\n",
        "               7*x + y <= 35,\n",
        "               x>=0,\n",
        "               y>=0]\n",
        "\n",
        "obj = cp.Maximize((7*x)+(10*y))\n",
        "\n",
        "prob = cp.Problem(obj, constraints)\n",
        "prob.solve()\n",
        "\n",
        "print(\"Value of x:\", x.value)\n",
        "print(\"Value of y:\", y.value)\n",
        "print(\"Value of obj:\",prob.value)"
      ],
      "execution_count": 2,
      "outputs": [
        {
          "output_type": "stream",
          "name": "stdout",
          "text": [
            "Value of x: 4.0\n",
            "Value of y: 3.0\n",
            "Value of obj: 58.0\n"
          ]
        }
      ]
    },
    {
      "cell_type": "markdown",
      "metadata": {
        "id": "z1rCHjCXiq1B"
      },
      "source": [
        "# **Question 2**"
      ]
    },
    {
      "cell_type": "code",
      "metadata": {
        "colab": {
          "base_uri": "https://localhost:8080/"
        },
        "id": "YxvLxS_8c8Hg",
        "outputId": "1f973a96-7a89-4eda-f13f-645e4e4881f4"
      },
      "source": [
        "x1 = cp.Variable(integer=True)\n",
        "y1 = cp.Variable(integer=True)\n",
        "\n",
        "constraints1 = [x1 + y1 <= 6,\n",
        "               5*x1 + 9*y1 <= 45,\n",
        "               x1>=0,\n",
        "               y1>=0]\n",
        "\n",
        "obj1 = cp.Maximize((5*x1)+(8*y1))\n",
        "\n",
        "prob1 = cp.Problem(obj1, constraints1)\n",
        "prob1.solve()\n",
        "\n",
        "print(\"Value of x1:\", x1.value)\n",
        "print(\"Value of y1:\", y1.value)\n",
        "print(\"Value of obj1:\",prob1.value)"
      ],
      "execution_count": 3,
      "outputs": [
        {
          "output_type": "stream",
          "name": "stdout",
          "text": [
            "Value of x1: 0.0\n",
            "Value of y1: 5.0\n",
            "Value of obj1: 40.0\n"
          ]
        }
      ]
    },
    {
      "cell_type": "markdown",
      "metadata": {
        "id": "b4DFN-2pY4YO"
      },
      "source": [
        "# **Question 3**"
      ]
    },
    {
      "cell_type": "code",
      "metadata": {
        "id": "Y2HwShrfjq-6",
        "colab": {
          "base_uri": "https://localhost:8080/"
        },
        "outputId": "20e19edd-ff8e-4971-cf1c-c93f9f14de77"
      },
      "source": [
        "x2 = cp.Variable(integer=True)\n",
        "y2 = cp.Variable(integer=True)\n",
        "\n",
        "constraints2 = [x2 + y2 <= 35,\n",
        "                x2<=20,\n",
        "                y2<=10,\n",
        "                x2>=0,\n",
        "                y2>=0]\n",
        "\n",
        "obj2 = cp.Maximize((10*x2)+(12*y2))\n",
        "\n",
        "prob2 = cp.Problem(obj2, constraints2)\n",
        "prob2.solve()\n",
        "print(\"Setting1:\")\n",
        "print(\"Value of x2:\", x2.value)\n",
        "print(\"Value of y2:\", y2.value)\n",
        "print(\"Value of obj2:\",prob2.value)\n",
        "\n",
        "\n",
        "x3 = cp.Variable(integer=True)\n",
        "y3 = cp.Variable(integer=True)\n",
        "\n",
        "constraints3 = [x3 + y3 <= 35,\n",
        "                x3<=12,\n",
        "                y3<=25,\n",
        "                x3>=0,\n",
        "                y3>=0]\n",
        "\n",
        "obj3 = cp.Maximize((10*x3)+(12*y3))\n",
        "\n",
        "prob3 = cp.Problem(obj3, constraints3)\n",
        "prob3.solve()\n",
        "print(\"Setting2:\")\n",
        "print(\"Value of x3:\", x3.value)\n",
        "print(\"Value of y3:\", y3.value)\n",
        "print(\"Value of obj3:\",prob3.value)"
      ],
      "execution_count": 7,
      "outputs": [
        {
          "output_type": "stream",
          "name": "stdout",
          "text": [
            "Setting1:\n",
            "Value of x2: 20.0\n",
            "Value of y2: 10.0\n",
            "Value of obj2: 320.0\n",
            "Setting2:\n",
            "Value of x3: 10.0\n",
            "Value of y3: 25.0\n",
            "Value of obj3: 400.0\n"
          ]
        }
      ]
    },
    {
      "cell_type": "code",
      "metadata": {
        "id": "x5_o7iyIumhR"
      },
      "source": [
        ""
      ],
      "execution_count": null,
      "outputs": []
    }
  ]
}