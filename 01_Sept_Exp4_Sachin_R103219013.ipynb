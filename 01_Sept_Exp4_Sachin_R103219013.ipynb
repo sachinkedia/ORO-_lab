{
  "nbformat": 4,
  "nbformat_minor": 0,
  "metadata": {
    "colab": {
      "name": "01_Sept_Exp4_Sachin_R103219013.ipynb",
      "provenance": [],
      "authorship_tag": "ABX9TyPK0bN1w4idRMEb++CWs9gn",
      "include_colab_link": true
    },
    "kernelspec": {
      "name": "python3",
      "display_name": "Python 3"
    },
    "language_info": {
      "name": "python"
    }
  },
  "cells": [
    {
      "cell_type": "markdown",
      "metadata": {
        "id": "view-in-github",
        "colab_type": "text"
      },
      "source": [
        "<a href=\"https://colab.research.google.com/github/sachinkedia/OroLAB/blob/main/01_Sept_Exp4_Sachin_R103219013.ipynb\" target=\"_parent\"><img src=\"https://colab.research.google.com/assets/colab-badge.svg\" alt=\"Open In Colab\"/></a>"
      ]
    },
    {
      "cell_type": "code",
      "metadata": {
        "id": "eSuZgiQAUn1K"
      },
      "source": [
        "import cvxpy as cp"
      ],
      "execution_count": 25,
      "outputs": []
    },
    {
      "cell_type": "markdown",
      "metadata": {
        "id": "_YyVciayimUn"
      },
      "source": [
        "# **Question 1**"
      ]
    },
    {
      "cell_type": "code",
      "metadata": {
        "colab": {
          "base_uri": "https://localhost:8080/"
        },
        "id": "gJny9R8CU2AH",
        "outputId": "618f5dcd-c4a2-4d30-af62-4119d0704721"
      },
      "source": [
        "x = cp.Variable(integer=True)\n",
        "y = cp.Variable(integer=True)\n",
        "\n",
        "constraints = [-x + (3*y) <= 6,\n",
        "               7*x + y <= 35,\n",
        "               x>=0,\n",
        "               y>=0]\n",
        "\n",
        "obj = cp.Maximize((7*x)+(10*y))\n",
        "\n",
        "prob = cp.Problem(obj, constraints)\n",
        "prob.solve()\n",
        "\n",
        "print(\"Value of x:\", x.value)\n",
        "print(\"Value of y:\", y.value)\n",
        "print(\"Value of obj:\",prob.value)"
      ],
      "execution_count": 26,
      "outputs": [
        {
          "output_type": "stream",
          "name": "stdout",
          "text": [
            "Value of x: 4.0\n",
            "Value of y: 3.0\n",
            "Value of obj: 58.0\n"
          ]
        }
      ]
    },
    {
      "cell_type": "markdown",
      "metadata": {
        "id": "z1rCHjCXiq1B"
      },
      "source": [
        "# **Question 2**"
      ]
    },
    {
      "cell_type": "code",
      "metadata": {
        "colab": {
          "base_uri": "https://localhost:8080/"
        },
        "id": "YxvLxS_8c8Hg",
        "outputId": "01d80f63-f1f4-4257-ffc3-9b6cbb09cb95"
      },
      "source": [
        "x1 = cp.Variable(integer=True)\n",
        "y1 = cp.Variable(integer=True)\n",
        "\n",
        "constraints1 = [x1 + y1 <= 6,\n",
        "               5*x1 + 9*y1 <= 45,\n",
        "               x1>=0,\n",
        "               y1>=0]\n",
        "\n",
        "obj1 = cp.Maximize((5*x1)+(8*y1))\n",
        "\n",
        "prob1 = cp.Problem(obj1, constraints1)\n",
        "prob1.solve()\n",
        "\n",
        "print(\"Value of x1:\", x1.value)\n",
        "print(\"Value of y1:\", y1.value)\n",
        "print(\"Value of obj1:\",prob1.value)"
      ],
      "execution_count": 27,
      "outputs": [
        {
          "output_type": "stream",
          "name": "stdout",
          "text": [
            "Value of x1: 0.0\n",
            "Value of y1: 5.0\n",
            "Value of obj1: 40.0\n"
          ]
        }
      ]
    },
    {
      "cell_type": "code",
      "metadata": {
        "id": "Y2HwShrfjq-6"
      },
      "source": [
        ""
      ],
      "execution_count": 27,
      "outputs": []
    }
  ]
}