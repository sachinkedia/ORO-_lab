{
  "nbformat": 4,
  "nbformat_minor": 0,
  "metadata": {
    "colab": {
      "name": "17_Nov_Exp11_Sachin_R103219013.ipynb",
      "provenance": [],
      "collapsed_sections": [],
      "authorship_tag": "ABX9TyMed5URPbbc3s9xXtOIWLmr",
      "include_colab_link": true
    },
    "kernelspec": {
      "name": "python3",
      "display_name": "Python 3"
    },
    "language_info": {
      "name": "python"
    }
  },
  "cells": [
    {
      "cell_type": "markdown",
      "metadata": {
        "id": "view-in-github",
        "colab_type": "text"
      },
      "source": [
        "<a href=\"https://colab.research.google.com/github/sachinkedia/OroLAB/blob/main/Lab11/17_Nov_Exp11_Sachin_R103219013.ipynb\" target=\"_parent\"><img src=\"https://colab.research.google.com/assets/colab-badge.svg\" alt=\"Open In Colab\"/></a>"
      ]
    },
    {
      "cell_type": "code",
      "metadata": {
        "id": "dOtZETEa3RVI"
      },
      "source": [
        "import numpy as np\n",
        "from scipy.optimize import linear_sum_assignment"
      ],
      "execution_count": 10,
      "outputs": []
    },
    {
      "cell_type": "markdown",
      "metadata": {
        "id": "n7WYK21Q45wf"
      },
      "source": [
        "# **Question 1**\n",
        "A computer center has three expert programmers. The center wants three application programs to be developed. The head of the computer center, after studying carefully the programmers to be deployed, estimates the computer time in minutes required by the experts for the application programmers as follows:<br>\n",
        "<table>\n",
        "<tr>\n",
        "<td> </td>\n",
        "<td>A</td>\n",
        "<td>B</td>\n",
        "<td>C</td>\n",
        "</tr>\n",
        "<tr>\n",
        "<td>1</td>\n",
        "<td>120</td>\n",
        "<td>100</td>\n",
        "<td>80</td>\n",
        "</tr>\n",
        "<tr>\n",
        "<td>2</td>\n",
        "<td>80</td>\n",
        "<td>90</td>\n",
        "<td>110</td>\n",
        "</tr>\n",
        "<tr>\n",
        "<td>3</td>\n",
        "<td>110</td>\n",
        "<td>140</td>\n",
        "<td>120</td>\n",
        "</tr>\n",
        "</table>\n"
      ]
    },
    {
      "cell_type": "code",
      "metadata": {
        "colab": {
          "base_uri": "https://localhost:8080/"
        },
        "id": "9G8kPJnG37t6",
        "outputId": "6a8a33c2-e81c-493c-b792-ea010dc75b47"
      },
      "source": [
        "cost_matrix = np.array([[120, 100, 80], [80, 90, 110], [110, 140, 120]])\n",
        "row_ind, col_ind = linear_sum_assignment(cost_matrix)\n",
        "opt_ass = col_ind\n",
        "tc = cost_matrix[row_ind, col_ind].sum()\n",
        "print('Total assignment cost is %d' %tc)"
      ],
      "execution_count": 12,
      "outputs": [
        {
          "output_type": "stream",
          "name": "stdout",
          "text": [
            "Total assignment cost is 280\n"
          ]
        }
      ]
    },
    {
      "cell_type": "markdown",
      "metadata": {
        "id": "V6-PU3ZX6lof"
      },
      "source": [
        "# **Question 2**\n",
        "A department has five employees with five jobs to be performed. The time(in hours) each men will take to perform each job is given in the effectiveness matrix.\n",
        "<table>\n",
        "<tr>\n",
        "<td> </td>\n",
        "<td>I</td>\n",
        "<td>II</td>\n",
        "<td>III</td>\n",
        "<td>IV</td>\n",
        "<td>V</td>\n",
        "</tr>\n",
        "<tr>\n",
        "<td>A</td>\n",
        "<td>10</td>\n",
        "<td>5</td>\n",
        "<td>13</td>\n",
        "<td>15</td>\n",
        "<td>16</td>\n",
        "</tr>\n",
        "<tr>\n",
        "<td>B</td>\n",
        "<td>3</td>\n",
        "<td>9</td>\n",
        "<td>18</td>\n",
        "<td>13</td>\n",
        "<td>6</td>\n",
        "</tr>\n",
        "<tr>\n",
        "<td>C</td>\n",
        "<td>10</td>\n",
        "<td>7</td>\n",
        "<td>2</td>\n",
        "<td>2</td>\n",
        "<td>2</td>\n",
        "</tr>\n",
        "<tr>\n",
        "<td>D</td>\n",
        "<td>7</td>\n",
        "<td>11</td>\n",
        "<td>9</td>\n",
        "<td>7</td>\n",
        "<td>12</td>\n",
        "</tr>\n",
        "<tr>\n",
        "<td>E</td>\n",
        "<td>7</td>\n",
        "<td>9</td>\n",
        "<td>10</td>\n",
        "<td>4</td>\n",
        "<td>12</td>\n",
        "</tr>\n",
        "</table>"
      ]
    },
    {
      "cell_type": "code",
      "metadata": {
        "colab": {
          "base_uri": "https://localhost:8080/"
        },
        "id": "L7H5Y1oQ4B6W",
        "outputId": "5d7be5ca-e7df-4ec1-d67d-750853a989f9"
      },
      "source": [
        "cost_matrix1 = np.array([[10, 5, 13, 15, 16], [3, 9, 18, 13, 6], [10, 7, 2, 2, 2], [7, 11, 9, 7, 12], [7, 9, 10, 4 , 12]])\n",
        "row_ind1, col_ind1 = linear_sum_assignment(cost_matrix1)\n",
        "opt_ass1 = col_ind1\n",
        "tc1 = cost_matrix1[row_ind1, col_ind1].sum()\n",
        "print('Total assignment cost is %d' %tc1)"
      ],
      "execution_count": 13,
      "outputs": [
        {
          "output_type": "stream",
          "name": "stdout",
          "text": [
            "Total assignment cost is 23\n"
          ]
        }
      ]
    },
    {
      "cell_type": "code",
      "metadata": {
        "id": "kNisjCIZ4oAE"
      },
      "source": [
        ""
      ],
      "execution_count": null,
      "outputs": []
    }
  ]
}