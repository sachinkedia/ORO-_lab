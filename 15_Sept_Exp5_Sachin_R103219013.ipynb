{
  "nbformat": 4,
  "nbformat_minor": 0,
  "metadata": {
    "colab": {
      "name": "15_Sept_Exp5_Sachin_R103219013.ipynb",
      "provenance": [],
      "authorship_tag": "ABX9TyP1w1SMrBKPdpKTW2wmCTcU",
      "include_colab_link": true
    },
    "kernelspec": {
      "name": "python3",
      "display_name": "Python 3"
    },
    "language_info": {
      "name": "python"
    }
  },
  "cells": [
    {
      "cell_type": "markdown",
      "metadata": {
        "id": "view-in-github",
        "colab_type": "text"
      },
      "source": [
        "<a href=\"https://colab.research.google.com/github/sachinkedia/OroLAB/blob/main/15_Sept_Exp5_Sachin_R103219013.ipynb\" target=\"_parent\"><img src=\"https://colab.research.google.com/assets/colab-badge.svg\" alt=\"Open In Colab\"/></a>"
      ]
    },
    {
      "cell_type": "code",
      "metadata": {
        "id": "IUBiFYFBZrfI"
      },
      "source": [
        "from scipy.optimize import linprog"
      ],
      "execution_count": 1,
      "outputs": []
    },
    {
      "cell_type": "markdown",
      "metadata": {
        "id": "DaeBW3RYfLqn"
      },
      "source": [
        "# **Question 1**"
      ]
    },
    {
      "cell_type": "code",
      "metadata": {
        "colab": {
          "base_uri": "https://localhost:8080/"
        },
        "id": "6Ap8afNsaIYC",
        "outputId": "7ca7bde5-e83e-40f2-c528-0734a276a706"
      },
      "source": [
        "obj = [-3, -2, -3]\n",
        "lhs_ineq = [[ 2, 1, 1],[1, 3, 1],[3, 4, 2]]\n",
        "rhs_ineq = [2, 6, 8]\n",
        "bnd = [(0, float(\"inf\")), (0, float(\"inf\")), (0, float(\"inf\"))]\n",
        "opt = linprog(c=obj, A_eq=lhs_ineq, b_eq=rhs_ineq, bounds=bnd, method=\"revised simplex\")\n",
        "opt"
      ],
      "execution_count": 2,
      "outputs": [
        {
          "output_type": "stream",
          "name": "stderr",
          "text": [
            "/usr/local/lib/python3.7/dist-packages/ipykernel_launcher.py:5: OptimizeWarning: A_eq does not appear to be of full row rank. To improve performance, check the problem formulation for redundant equality constraints.\n",
            "  \"\"\"\n"
          ]
        },
        {
          "output_type": "execute_result",
          "data": {
            "text/plain": [
              "     con: array([0., 0., 0.])\n",
              "     fun: -4.0\n",
              " message: 'Optimization terminated successfully.'\n",
              "     nit: 3\n",
              "   slack: array([], dtype=float64)\n",
              "  status: 0\n",
              " success: True\n",
              "       x: array([0., 2., 0.])"
            ]
          },
          "metadata": {},
          "execution_count": 2
        }
      ]
    },
    {
      "cell_type": "markdown",
      "metadata": {
        "id": "pxVTTSLBfPjO"
      },
      "source": [
        "# **Question 2**"
      ]
    },
    {
      "cell_type": "code",
      "metadata": {
        "colab": {
          "base_uri": "https://localhost:8080/"
        },
        "id": "2T2O5MXmb0Y6",
        "outputId": "62a68243-b4f7-4327-ebbf-a4b811fe2b6d"
      },
      "source": [
        "obj1 = [3, -4, 3]\n",
        "lhs_ineq1 = [[ 5, 6, 2],[1, -3, -5], [2, 5, -4]]\n",
        "rhs_ineq1 = [5, -8, 4]\n",
        "bnd1 = [(0, float(\"inf\")), (0, float(\"inf\")), (0, float(\"inf\"))]\n",
        "opt1 = linprog(c=obj1, A_ub=lhs_ineq1, b_ub=rhs_ineq1, bounds=bnd1, method=\"revised simplex\")\n",
        "opt1"
      ],
      "execution_count": 3,
      "outputs": [
        {
          "output_type": "execute_result",
          "data": {
            "text/plain": [
              "     con: array([], dtype=float64)\n",
              "     fun: 2.625\n",
              " message: 'Optimization terminated successfully.'\n",
              "     nit: 2\n",
              "   slack: array([0.   , 0.   , 7.625])\n",
              "  status: 0\n",
              " success: True\n",
              "       x: array([0.   , 0.375, 1.375])"
            ]
          },
          "metadata": {},
          "execution_count": 3
        }
      ]
    },
    {
      "cell_type": "markdown",
      "metadata": {
        "id": "U9EhVps8fT1X"
      },
      "source": [
        "# **Question 3**"
      ]
    },
    {
      "cell_type": "code",
      "metadata": {
        "colab": {
          "base_uri": "https://localhost:8080/"
        },
        "id": "BYGqVt3ycuMu",
        "outputId": "bb3c306e-a36e-4ccb-fe3d-561f99373253"
      },
      "source": [
        "obj2 = [-2, -4, -4, 3]\n",
        "lhs_ineq2 = [[ 1, 1, 1, 0],[1, 4, 0, 1],[3, 4, 2, 0]]\n",
        "rhs_ineq2 = [4, 8, 8]\n",
        "bnd2 = [(0, float(\"inf\")), (0, float(\"inf\")), (0, float(\"inf\")), (0, float(\"inf\"))]\n",
        "opt2 = linprog(c=obj2, A_eq=lhs_ineq2, b_eq=rhs_ineq2, bounds=bnd2, method=\"revised simplex\")\n",
        "opt2"
      ],
      "execution_count": 4,
      "outputs": [
        {
          "output_type": "execute_result",
          "data": {
            "text/plain": [
              "     con: array([0., 0., 0.])\n",
              "     fun: 8.0\n",
              " message: 'Optimization terminated successfully.'\n",
              "     nit: 3\n",
              "   slack: array([], dtype=float64)\n",
              "  status: 0\n",
              " success: True\n",
              "       x: array([0., 0., 4., 8.])"
            ]
          },
          "metadata": {},
          "execution_count": 4
        }
      ]
    },
    {
      "cell_type": "code",
      "metadata": {
        "id": "-Pv7UPSxe1c3"
      },
      "source": [
        ""
      ],
      "execution_count": null,
      "outputs": []
    }
  ]
}