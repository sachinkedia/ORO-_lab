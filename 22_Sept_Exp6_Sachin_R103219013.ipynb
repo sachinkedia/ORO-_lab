{
  "nbformat": 4,
  "nbformat_minor": 0,
  "metadata": {
    "colab": {
      "name": "22_Sept_Exp6_Sachin_R103219013.ipynb",
      "provenance": [],
      "collapsed_sections": [],
      "authorship_tag": "ABX9TyPS8N0/Wgj0QfUqhbCtfhbp",
      "include_colab_link": true
    },
    "kernelspec": {
      "name": "python3",
      "display_name": "Python 3"
    },
    "language_info": {
      "name": "python"
    }
  },
  "cells": [
    {
      "cell_type": "markdown",
      "metadata": {
        "id": "view-in-github",
        "colab_type": "text"
      },
      "source": [
        "<a href=\"https://colab.research.google.com/github/sachinkedia/OroLAB/blob/main/22_Sept_Exp6_Sachin_R103219013.ipynb\" target=\"_parent\"><img src=\"https://colab.research.google.com/assets/colab-badge.svg\" alt=\"Open In Colab\"/></a>"
      ]
    },
    {
      "cell_type": "code",
      "metadata": {
        "id": "lUMqyt5ye6kQ"
      },
      "source": [
        "from pydrive.auth import GoogleAuth\n",
        "from pydrive.drive import GoogleDrive\n",
        "from google.colab import auth\n",
        "from oauth2client.client import GoogleCredentials\n",
        "auth.authenticate_user()\n",
        "gauth = GoogleAuth()\n",
        "gauth.credentials = GoogleCredentials.get_application_default()\n",
        "drive = GoogleDrive(gauth)\n",
        "downloaded = drive.CreateFile({'id':\"1xIaX8HXFEI80_hBW9Asv_k4Ckt3ljZln\"})\n",
        "downloaded.GetContentFile('Lab6_Q1.txt')  \n",
        "downloaded = drive.CreateFile({'id':\"1Z0J1HE4XRxcWUX0ayRxv3zu7PSA9-mQ-\"})\n",
        "downloaded.GetContentFile('Lab6_Q2.txt')\n",
        "downloaded = drive.CreateFile({'id':\"1_qgJtm7ZbtZzhRJqkJXLgIv0omAnW1wB\"})\n",
        "downloaded.GetContentFile('Lab6_Q3.txt')\n",
        "from scipy.optimize import linprog\n",
        "import io"
      ],
      "execution_count": 67,
      "outputs": []
    },
    {
      "cell_type": "markdown",
      "metadata": {
        "id": "hGfZMFEmvipn"
      },
      "source": [
        "# **Question 1**"
      ]
    },
    {
      "cell_type": "code",
      "metadata": {
        "id": "RHDIktlZgbC9"
      },
      "source": [
        "file = open('Lab6_Q1.txt', 'r')\n",
        "lines = file.readlines()\n",
        "lst= lines[0].split(\" \")\n",
        "obj = [float(i) for i in lst]\n",
        "lst= lines[1].split(\" \")\n",
        "C1 = [float(i) for i in lst]\n",
        "lst= lines[2].split(\" \")\n",
        "C2 = [float(i) for i in lst]\n",
        "lst= lines[3].split(\" \")\n",
        "C3 = [float(i) for i in lst]\n",
        "lhs = []\n",
        "lhs.append(C1)\n",
        "lhs.append(C2)\n",
        "lhs.append(C3)\n",
        "lst= lines[4].split(\" \")\n",
        "rhs = [float(i) for i in lst]"
      ],
      "execution_count": 68,
      "outputs": []
    },
    {
      "cell_type": "code",
      "metadata": {
        "id": "URfhXs4H7467",
        "colab": {
          "base_uri": "https://localhost:8080/"
        },
        "outputId": "0ba08983-1282-4934-868c-bff3fb89c328"
      },
      "source": [
        "bnd1 = [(0, float(\"inf\")), (0, float(\"inf\"))]\n",
        "opt1 = linprog(c=obj, A_ub=lhs, b_ub=rhs, bounds=bnd1, method=\"revised simplex\")\n",
        "opt1"
      ],
      "execution_count": 69,
      "outputs": [
        {
          "output_type": "execute_result",
          "data": {
            "text/plain": [
              "     con: array([], dtype=float64)\n",
              "     fun: -2300.0\n",
              " message: 'Optimization terminated successfully.'\n",
              "     nit: 3\n",
              "   slack: array([ 0.,  0., 10.])\n",
              "  status: 0\n",
              " success: True\n",
              "       x: array([20., 30.])"
            ]
          },
          "metadata": {},
          "execution_count": 69
        }
      ]
    },
    {
      "cell_type": "markdown",
      "metadata": {
        "id": "fJR1JX29vb-Y"
      },
      "source": [
        "# **Question 2**"
      ]
    },
    {
      "cell_type": "code",
      "metadata": {
        "id": "Mcw4aflRnPA1"
      },
      "source": [
        "file = open('Lab6_Q2.txt', 'r')\n",
        "lines = file.readlines()\n",
        "lst= lines[0].split(\" \")\n",
        "obj = [float(i) for i in lst]\n",
        "lst= lines[1].split(\" \")\n",
        "C1 = [float(i) for i in lst]\n",
        "lst= lines[2].split(\" \")\n",
        "C2 = [float(i) for i in lst]\n",
        "lhs_eq=[]\n",
        "lhs_eq.append(C1)\n",
        "lhs_eq.append(C2)\n",
        "lst= lines[3].split(\" \")\n",
        "C3 = [float(i) for i in lst]\n",
        "lst= lines[4].split(\" \")\n",
        "C4 = [float(i) for i in lst]\n",
        "lhs_ineq = []\n",
        "lhs_ineq.append(C3)\n",
        "lhs_ineq.append(C4)\n",
        "lst= lines[5].split(\" \")\n",
        "rhs_eq = [float(i) for i in lst]\n",
        "lst= lines[6].split(\" \")\n",
        "rhs_ineq = [float(i) for i in lst]"
      ],
      "execution_count": 70,
      "outputs": []
    },
    {
      "cell_type": "code",
      "metadata": {
        "colab": {
          "base_uri": "https://localhost:8080/"
        },
        "id": "ba0kcUGh1taX",
        "outputId": "13add05c-f6e4-4751-c7f7-2d3c6615156b"
      },
      "source": [
        "bnd = [(0, 1500), (0, 1500), (0, 1500), (0,750), (0,750), (0,750), (1,1)]\n",
        "opt = linprog(c=obj, A_eq=lhs_eq, A_ub=lhs_ineq, b_ub=rhs_ineq, b_eq=rhs_eq, bounds=bnd, method=\"revised simplex\")\n",
        "opt"
      ],
      "execution_count": 71,
      "outputs": [
        {
          "output_type": "execute_result",
          "data": {
            "text/plain": [
              "     con: array([0., 0.])\n",
              "     fun: 21750.0\n",
              " message: 'Optimization terminated successfully.'\n",
              "     nit: 7\n",
              "   slack: array([750.,   0.])\n",
              "  status: 0\n",
              " success: True\n",
              "       x: array([1.5e+03, 1.5e+03, 1.5e+03, 2.5e+02, 7.5e+02, 5.0e+02, 1.0e+00])"
            ]
          },
          "metadata": {},
          "execution_count": 71
        }
      ]
    },
    {
      "cell_type": "markdown",
      "metadata": {
        "id": "piTfjgcWvXqs"
      },
      "source": [
        "# **Question 3**"
      ]
    },
    {
      "cell_type": "code",
      "metadata": {
        "colab": {
          "base_uri": "https://localhost:8080/"
        },
        "id": "xBJfJUIkWEHx",
        "outputId": "0d92b4c8-a8e5-4ae0-c230-211970aa0622"
      },
      "source": [
        "file = open('Lab6_Q3.txt', 'r')\n",
        "lines = file.readlines()\n",
        "lst= lines[0].split(\" \")\n",
        "obj = [float(i) for i in lst]\n",
        "lst= lines[1].split(\" \")\n",
        "C1 = [float(i) for i in lst]\n",
        "lst= lines[2].split(\" \")\n",
        "C2 = [float(i) for i in lst]\n",
        "lhs = []\n",
        "lhs.append(C1)\n",
        "lhs.append(C2)\n",
        "lst= lines[3].split(\" \")\n",
        "rhs = [float(i) for i in lst]\n",
        "print(rhs)"
      ],
      "execution_count": 72,
      "outputs": [
        {
          "output_type": "stream",
          "name": "stdout",
          "text": [
            "[1000.0, 800.0]\n"
          ]
        }
      ]
    },
    {
      "cell_type": "code",
      "metadata": {
        "colab": {
          "base_uri": "https://localhost:8080/"
        },
        "id": "N1kFhP9aslob",
        "outputId": "cee3c477-8ef5-48cd-cf8e-2e0fb800aa47"
      },
      "source": [
        "bnd = [(0, 400), (0, 700)]\n",
        "opt = linprog(c=obj, A_ub=lhs, b_ub=rhs, bounds=bnd, method=\"revised simplex\")\n",
        "opt"
      ],
      "execution_count": 73,
      "outputs": [
        {
          "output_type": "execute_result",
          "data": {
            "text/plain": [
              "     con: array([], dtype=float64)\n",
              "     fun: -2600.0\n",
              " message: 'Optimization terminated successfully.'\n",
              "     nit: 3\n",
              "   slack: array([0., 0.])\n",
              "  status: 0\n",
              " success: True\n",
              "       x: array([200., 600.])"
            ]
          },
          "metadata": {},
          "execution_count": 73
        }
      ]
    },
    {
      "cell_type": "code",
      "metadata": {
        "id": "ot3hrvI6su1U"
      },
      "source": [
        ""
      ],
      "execution_count": 73,
      "outputs": []
    }
  ]
}